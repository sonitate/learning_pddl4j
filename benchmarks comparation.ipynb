{
 "cells": [
  {
   "cell_type": "markdown",
   "id": "6718b41f",
   "metadata": {},
   "source": [
    "# I wanted to compare the HSP planner with a SAT-based approach. But, turning the planning problem into a SAT problem was tougher than I thought, and I need more time to figure out the library. So, I used the FF planner for now, as it's well-known and works well, to compare with the HSP planner.After running some benchmarks, I've drawn conclusions based on the results of comparing the HSP and FF planners."
   ]
  },
  {
   "cell_type": "markdown",
   "id": "7c50e784",
   "metadata": {},
   "source": [
    "## I spent few days encode the planning problem into SAT problem, I am still checking out the pddl4j class and functions, to see what can I after parsing the problem in pddl4j and instantiate that problem."
   ]
  },
  {
   "cell_type": "markdown",
   "id": "583089ef",
   "metadata": {},
   "source": [
    "## I still did not manage to encode it into DIMACS to be able to run in SAT solver. I am stuck on the calling the preconditions, effects (both positive and negative). though, I am still exploring the pddl4j library."
   ]
  },
  {
   "cell_type": "markdown",
   "id": "23a439d1",
   "metadata": {},
   "source": [
    "## I also found Hubert's sat_planner, https://github.com/fiorinoh/satplanner/blob/main/src/fr/uga/pddl4j/tutorial/satplanner/SATEncoding.java\n",
    "## However, the code based on pdd4j 3.8.3. with version 4.0.0 few classes have been changed such as CodedProblem , BitState, BitOp to Problem, State, BitSet. "
   ]
  },
  {
   "cell_type": "code",
   "execution_count": null,
   "id": "f12f1478",
   "metadata": {},
   "outputs": [],
   "source": []
  },
  {
   "cell_type": "code",
   "execution_count": null,
   "id": "9f89df2f",
   "metadata": {},
   "outputs": [],
   "source": [
    "import subprocess\n",
    "import matplotlib.pyplot as plt\n",
    "import csv\n",
    "import re"
   ]
  },
  {
   "cell_type": "code",
   "execution_count": 2,
   "id": "c6e0a235",
   "metadata": {},
   "outputs": [],
   "source": [
    "# Define benchmarks and planners\n",
    "benchmarks = ['blocks', 'depot', 'gripper', 'logistic']\n",
    "planners = ['hsp', 'ff']"
   ]
  },
  {
   "cell_type": "code",
   "execution_count": 8,
   "id": "463db93b",
   "metadata": {},
   "outputs": [],
   "source": [
    "def extract_runtime_and_makespan(output):\n",
    "    # Extract total runtime\n",
    "    match = re.search(r'(\\d+\\.\\d+)\\s*seconds total time', output)\n",
    "    if match:\n",
    "        runtime_match = float(match.group(1))\n",
    "#         print(\"Recognized runtime:\", runtime_match)\n",
    "    else:\n",
    "        print(\"Runtime not found in the output.\")\n",
    "\n",
    "    # Extract makespan by counting the highest action number\n",
    "    action_matches = re.findall(r'(\\d+):', output)\n",
    "    if action_matches:\n",
    "        # Convert all matches to integers and get the highest value\n",
    "        makespan = max(map(int, action_matches)) + 1\n",
    "    else:\n",
    "        raise ValueError(\"Unable to extract makespan from the output.\")\n",
    "    return runtime_match, makespan"
   ]
  },
  {
   "cell_type": "code",
   "execution_count": 9,
   "id": "6a963910",
   "metadata": {},
   "outputs": [],
   "source": [
    "def execute_planner(planner, benchmark):\n",
    "    if planner == 'hsp':\n",
    "        cmd = f\"java -cp classes:lib/pddl4j-4.0.0.jar fr.uga.pddl4j.planners.statespace.HSP pddl/domain_{benchmark}.pddl pddl/p001_{benchmark}.pddl\"\n",
    "    else: # assuming FF planner\n",
    "        cmd = f\"java -cp classes:lib/pddl4j-4.0.0.jar fr.uga.pddl4j.planners.statespace.FF pddl/domain_{benchmark}.pddl pddl/p001_{benchmark}.pddl\"\n",
    "    \n",
    "    output = subprocess.check_output(cmd, shell=True).decode('utf-8')\n",
    "    # Parse the output to get runtime and makespan\n",
    "#     print(output)\n",
    "    try:\n",
    "        runtime, makespan = extract_runtime_and_makespan(output)\n",
    "    except ValueError as e:\n",
    "        print(\"Error:\", e)\n",
    "        print(\"Planner Output:\\n\", output)\n",
    "        raise\n",
    "    \n",
    "    return runtime, makespan"
   ]
  },
  {
   "cell_type": "code",
   "execution_count": 10,
   "id": "74f18e3d",
   "metadata": {},
   "outputs": [],
   "source": [
    "# Example usage:\n",
    "# benchmark = \"blocks\"  # Just an example, replace with the actual benchmark you're using\n",
    "# planner = \"hsp\"  # or \"ff\"\n",
    "# runtime, makespan = execute_planner(planner, benchmark)\n",
    "# print(f\"Runtime for {benchmark} using {planner}: {runtime} seconds\")\n",
    "# print(f\"Makespan for {benchmark} using {planner}: {makespan} actions\")"
   ]
  },
  {
   "cell_type": "code",
   "execution_count": 11,
   "id": "df0d05e6",
   "metadata": {},
   "outputs": [],
   "source": [
    "# runtime,makespan = execute_planner(,)\n",
    "# print(f\"Runtime for {benchmark} using {planner}: {runtime} seconds\")\n",
    "# print(f\"Makespan for {benchmark} using {planner}: {makespan} actions\")"
   ]
  },
  {
   "cell_type": "code",
   "execution_count": 12,
   "id": "59615b70",
   "metadata": {},
   "outputs": [],
   "source": [
    "# Data collection\n",
    "results = {}\n",
    "for benchmark in benchmarks:\n",
    "    for planner in planners:\n",
    "        runtime, makespan = execute_planner(planner, benchmark)\n",
    "        if benchmark not in results:\n",
    "            results[benchmark] = {}\n",
    "        results[benchmark][planner] = {'runtime': runtime, 'makespan': makespan}\n"
   ]
  },
  {
   "cell_type": "code",
   "execution_count": 15,
   "id": "58ad5220",
   "metadata": {},
   "outputs": [
    {
     "data": {
      "text/plain": [
       "{'blocks': {'hsp': {'runtime': 0.07, 'makespan': 6},\n",
       "  'ff': {'runtime': 0.07, 'makespan': 10}},\n",
       " 'depot': {'hsp': {'runtime': 0.1, 'makespan': 10},\n",
       "  'ff': {'runtime': 0.1, 'makespan': 12}},\n",
       " 'gripper': {'hsp': {'runtime': 0.15, 'makespan': 9},\n",
       "  'ff': {'runtime': 0.09, 'makespan': 9}},\n",
       " 'logistic': {'hsp': {'runtime': 0.15, 'makespan': 20},\n",
       "  'ff': {'runtime': 0.1, 'makespan': 20}}}"
      ]
     },
     "execution_count": 15,
     "metadata": {},
     "output_type": "execute_result"
    }
   ],
   "source": [
    "results"
   ]
  },
  {
   "cell_type": "code",
   "execution_count": 13,
   "id": "85b066bf",
   "metadata": {},
   "outputs": [],
   "source": [
    "# Save to CSV\n",
    "with open('results.csv', 'w') as file:\n",
    "    writer = csv.writer(file)\n",
    "    writer.writerow(['Benchmark', 'Planner', 'Runtime', 'Makespan'])\n",
    "    for benchmark, data in results.items():\n",
    "        for planner, metrics in data.items():\n",
    "            writer.writerow([benchmark, planner, metrics['runtime'], metrics['makespan']])\n"
   ]
  },
  {
   "cell_type": "code",
   "execution_count": 17,
   "id": "9c064f8a",
   "metadata": {},
   "outputs": [
    {
     "data": {
      "image/png": "[encoded data removed]",
      "text/plain": [
       "<Figure size 720x432 with 1 Axes>"
      ]
     },
     "metadata": {
      "needs_background": "light"
     },
     "output_type": "display_data"
    },
    {
     "data": {
      "image/png": "[encoded data removed]",
      "text/plain": [
       "<Figure size 720x432 with 1 Axes>"
      ]
     },
     "metadata": {
      "needs_background": "light"
     },
     "output_type": "display_data"
    }
   ],
   "source": [
    "# Order benchmarks by HSP runtime for visualization\n",
    "ordered_benchmarks = sorted(benchmarks, key=lambda x: results[x]['hsp']['runtime'])\n",
    "\n",
    "# Visualization\n",
    "for metric in ['runtime', 'makespan']:\n",
    "    plt.figure(figsize=(10, 6))\n",
    "    bar_width = 0.35\n",
    "    index = range(len(ordered_benchmarks))\n",
    "    \n",
    "    hsp_values = [results[domain]['hsp'][metric] for domain in ordered_benchmarks]\n",
    "    ff_values = [results[domain]['ff'][metric] for domain in ordered_benchmarks]\n",
    "    \n",
    "    # Create bar charts\n",
    "    plt.bar(index, hsp_values, bar_width, color='blue', label='HSP')\n",
    "    plt.bar([i+bar_width for i in index], ff_values, bar_width, color='red', label='FF')\n",
    "    \n",
    "    plt.xlabel('Benchmarks')\n",
    "    plt.ylabel(metric.capitalize())\n",
    "    plt.title(f'Comparison of {metric.capitalize()} between HSP and FF')\n",
    "    plt.xticks([i+bar_width/2 for i in index], ordered_benchmarks)\n",
    "    plt.legend()\n",
    "    plt.tight_layout()\n",
    "    plt.show()"
   ]
  },
  {
   "cell_type": "markdown",
   "id": "4bdff185",
   "metadata": {},
   "source": [
    "My conclusion :\n",
    "- In terms of runtime, FF is faster in 2 out of the 4 domains (Gripper and Logistic), while in the other two domains (Blocks and Depot), both planners perform equally.\n",
    "- In terms of makespan, HSP produces shorter plans in 2 out of the 4 domains (Blocks and Depot), and in the other two domains (Gripper and Logistic), both planners produce plans of the same length.\n",
    "+ Overall, FF tends to be faster in terms of runtime, HSP tends to produce shorter plans (lower makespan) in certain domains. The \"best\" planner would depend on the specific requirements: if speed of finding a plan is more critical, FF seems better; if the quality (length) of the plan is more important, HSP might be preferred."
   ]
  },
  {
   "cell_type": "code",
   "execution_count": null,
   "id": "d72654dc",
   "metadata": {},
   "outputs": [],
   "source": []
  },
  {
   "cell_type": "code",
   "execution_count": null,
   "id": "0ecb0064",
   "metadata": {},
   "outputs": [],
   "source": []
  }
 ],
 "metadata": {
  "kernelspec": {
   "display_name": "my-conda-env",
   "language": "python",
   "name": "my-conda-env"
  },
  "language_info": {
   "codemirror_mode": {
    "name": "ipython",
    "version": 3
   },
   "file_extension": ".py",
   "mimetype": "text/x-python",
   "name": "python",
   "nbconvert_exporter": "python",
   "pygments_lexer": "ipython3",
   "version": "3.9.2"
  }
 },
 "nbformat": 4,
 "nbformat_minor": 5
}
